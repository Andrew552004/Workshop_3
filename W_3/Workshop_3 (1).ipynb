{
  "cells": [
    {
      "cell_type": "markdown",
      "metadata": {
        "id": "WbJjZ_GjzDqe"
      },
      "source": [
        "# Workshop No. 3\n",
        "\n",
        "This code is an expert system to help a teacher choose a movie through filters without implementing an API taking the information for the movies from a popular website called IMDb where there is different information about movies and opinions, In addition to the code there is a pdf with the graphic representation of the expert system."
      ]
    },
    {
      "cell_type": "code",
      "execution_count": null,
      "metadata": {
        "id": "M3dnOTGRzDqf"
      },
      "outputs": [],
      "source": [
        "# neccesary libraries\n",
        "!pip install --upgrade pip\n",
        "!pip install requests\n",
        "!pip install beautifulsoup4\n",
        "!pip install pandas"
      ]
    },
    {
      "cell_type": "markdown",
      "metadata": {
        "id": "D5orPiMZzDqg"
      },
      "source": [
        "## 1. Get Movies Data\n",
        "\n"
      ]
    },
    {
      "cell_type": "code",
      "execution_count": 2,
      "metadata": {
        "id": "jOhuR_DPzDqg"
      },
      "outputs": [],
      "source": [
        "# import libraries\n",
        "import requests\n",
        "from bs4 import BeautifulSoup\n",
        "\n",
        "def get_web_html(url: str) -> BeautifulSoup:\n",
        "    \"\"\"\n",
        "    This method gets the HTML from a website using scrapping.\n",
        "\n",
        "    Args:\n",
        "        url: URL to scrape.\n",
        "\n",
        "    Returns:\n",
        "        A BeautifulSoup object with the HTML.\n",
        "    \"\"\"\n",
        "    # headers to avoid 403 error, cos' IMDb blocks requests from bots\n",
        "    headers = {\n",
        "        \"User-Agent\": \"Mozilla/5.0 (Windows NT 10.0; Win64; x64) AppleWebKit/537.36 (KHTML, like Gecko) Chrome/58.0.3029.110 Safari/537.3\"\n",
        "    }\n",
        "\n",
        "    # get HTML and save it in a variable\n",
        "    response = requests.get(url, headers=headers)\n",
        "    return BeautifulSoup(response.text, \"html.parser\")\n",
        "\n",
        "\n"
      ]
    },
    {
      "cell_type": "code",
      "execution_count": 3,
      "metadata": {
        "id": "3t3jt1GozDqg"
      },
      "outputs": [],
      "source": [
        "# import libraries\n",
        "from bs4 import BeautifulSoup\n",
        "\n",
        "\n",
        "def get_title_year(movie_data: BeautifulSoup) -> tuple:\n",
        "    \"\"\"\n",
        "    This methog gets the title, year, and link of a movie data using scrapping.\n",
        "\n",
        "    Args:\n",
        "        movie_data: BeautifulSoup object with movie data.\n",
        "\n",
        "    Returns:\n",
        "        A tuple with title, year, and link.\n",
        "    \"\"\"\n",
        "    # process main title of subdivission\n",
        "    base_url = \"https://www.imdb.com\"\n",
        "    ref_data = movie_data.find(\"a\")\n",
        "    title = ref_data.text.split(\"(\")[0].strip()\n",
        "    year = ref_data.text.split(\"(\")[1].replace(\")\", \"\")\n",
        "    link = base_url + ref_data[\"href\"]\n",
        "    return title, year, link\n",
        "\n",
        "\n",
        "def get_genre_actors(movie_data: BeautifulSoup) -> list:\n",
        "    \"\"\"\n",
        "    This method gets genre and actors from a movie data using scrapping.\n",
        "\n",
        "    Args:\n",
        "        movie_data: BeautifulSoup object with movie data.\n",
        "\n",
        "    Returns:\n",
        "        A list with genre and actors.\n",
        "    \"\"\"\n",
        "    # process ul tags to get genre and actors\n",
        "    data = []\n",
        "    ul_tags = movie_data.find_all(\"ul\")\n",
        "    for ul_tag in ul_tags:\n",
        "        temp = []\n",
        "        for li_tag in ul_tag.find_all(\"li\"):\n",
        "            temp.append(li_tag.find(\"span\").get_text())\n",
        "        data.append(\", \".join(temp))\n",
        "    return data"
      ]
    },
    {
      "cell_type": "code",
      "execution_count": 4,
      "metadata": {
        "colab": {
          "base_uri": "https://localhost:8080/"
        },
        "id": "6iVifzfozDqg",
        "outputId": "0ca150c0-a4bc-4c1e-d707-ab9bd9530843"
      },
      "outputs": [
        {
          "output_type": "stream",
          "name": "stdout",
          "text": [
            "                     Title  Year                         Genre  \\\n",
            "0  Furiosa: A Mad Max Saga  2024     Action, Adventure, Sci-Fi   \n",
            "1       The Garfield Movie  2024  Animation, Adventure, Comedy   \n",
            "2                    Sight  2023     Biography, Drama, History   \n",
            "\n",
            "                                              Actors  \n",
            "0  Anya Taylor-Joy, Chris Hemsworth, Tom Burke, A...  \n",
            "1  Chris Pratt, Samuel L. Jackson, Hannah Wadding...  \n",
            "2  Terry Chen, Greg Kinnear, Natasha Mumba, Fionn...  \n"
          ]
        }
      ],
      "source": [
        "# import libraries\n",
        "from bs4 import BeautifulSoup\n",
        "import pandas as pd\n",
        "\n",
        "\n",
        "def generate_dataframe(url: str) -> pd.DataFrame:\n",
        "    \"\"\"\n",
        "    This method generates a DataFrame with movie data from IMDb.\n",
        "\n",
        "    Args:\n",
        "        url: URL to scrape.\n",
        "\n",
        "    Returns:\n",
        "        A DataFrame with movie data.\n",
        "    \"\"\"\n",
        "    # movies datastructure definition\n",
        "    imdb = get_web_html(url)\n",
        "    movies = []\n",
        "    movies_metadata = [\"Title\", \"Year\", \"Genre\", \"Actors\"]\n",
        "\n",
        "    # process HTML using scrapping going to each division with the class ipc-metadata-list-summary-item__tc\n",
        "    movies_html = imdb.find_all(\"div\", class_=\"ipc-metadata-list-summary-item__tc\")\n",
        "    for movie in movies_html:\n",
        "        # get each movie data into a clean html structure\n",
        "        movie_data = BeautifulSoup(str(movie), \"html.parser\")\n",
        "\n",
        "        # get movie data\n",
        "        title, year, link = get_title_year(movie_data)\n",
        "        data = get_genre_actors(movie_data)\n",
        "\n",
        "        # create a dictionary to have a nice data movie structure\n",
        "        movie_clean_data = {\n",
        "            \"Title\": title,\n",
        "            \"Year\": year,\n",
        "            \"Genre\": data[0],\n",
        "            \"Actors\": data[1] if len(data) > 1 else \"\",\n",
        "        }\n",
        "        # create a list of dictionaries to create a DataFrame\n",
        "        movies.append(movie_clean_data)\n",
        "\n",
        "    # create movies dataframe\n",
        "    return pd.DataFrame(movies, columns=movies_metadata)\n",
        "\n",
        "# ================================ MAIN =================================== #\n",
        "# url to scrape\n",
        "url = \"https://www.imdb.com/calendar/?ref_=rlm&region=US&type=MOVIE\"\n",
        "movies_df = generate_dataframe(url)\n",
        "print(movies_df.head(3))\n",
        ""
      ]
    },
    {
      "cell_type": "markdown",
      "metadata": {
        "id": "LD3qjvupzDqh"
      },
      "source": [
        "## 2. Time to build a Decision Tree\n",
        "\n",
        "Para crear un sistema experto, debe definir un árbol de decisión. Es decir, una secuencia de condicionales para obtener un resultado, es como construir un diagrama de flujo compuesto por muchos condicionales.\n",
        "\n",
        "En esta parte, debes ir a cualquier sitio como _draw.io_ y crear un __diagrama de flujo__ sobre cómo crees que es el mejor proceso de decisión: _¿qué preguntas quieres hacer?_\n",
        "\n",
        "Recuerde, hacer las preguntas correctas es un paso muy importante en cualquier tarea que desee realizar.\n",
        "\n",
        "El siguiente es el algoritmo utilizado en el ___sistema experto___ (reemplace la imagen llamada _expert\\_system.png_):\n",
        "\n",
        "\n"
      ]
    },
    {
      "cell_type": "markdown",
      "metadata": {
        "id": "9BGqs9TvzDqh"
      },
      "source": [
        "### 2.1 Your proposal\n",
        "\n",
        "For my analysis i choose to ask to the user for the filter who he want, the idea its compare the string inserted for the user, look if its valid and show an answer"
      ]
    },
    {
      "cell_type": "markdown",
      "metadata": {
        "id": "35mBB1pezDqh"
      },
      "source": [
        "## 3. Put your expert system at work\n",
        "\n"
      ]
    },
    {
      "cell_type": "code",
      "execution_count": 14,
      "metadata": {
        "colab": {
          "base_uri": "https://localhost:8080/"
        },
        "id": "H3K319WQzDqh",
        "outputId": "075ff7ed-1d35-44d6-8893-b2be684e1ce1"
      },
      "outputs": [
        {
          "output_type": "stream",
          "name": "stdout",
          "text": [
            "<function filtered_movies_df at 0x7e9162136c20>\n"
          ]
        }
      ],
      "source": [
        "import pandas as pd\n",
        "\n",
        "def filtered_movies_df(movies_df, year=None, title=None, actors=None, genre=None):\n",
        "\n",
        "  filtered_movies_df = movies_df.copy()\n",
        "\n",
        "  print(\"Select a filter for your movie\");\n",
        "\n",
        "  if year:\n",
        "    filtered_movies_df = movies_df[movies_df['Year'] == year]\n",
        "\n",
        "  if title:\n",
        "    filtered_movies_df = movies_df[movies_df['title'].str.contains(title, case=False, na=False)]\n",
        "\n",
        "  if actors:\n",
        "    filtered_movies_df = movies_df[movies_df['actors'].str.contains(actors, case=False, na=False)]\n",
        "\n",
        "  if genre:\n",
        "    filtered_movies_df = movies_df[movies_df['genre'].str.contains(genre, case=False, na=False)]\n",
        "\n",
        "  return filtered_movies_df.to_string()\n",
        "\n",
        "print(filtered_movies_df)"
      ]
    }
  ],
  "metadata": {
    "kernelspec": {
      "display_name": "udistrital",
      "language": "python",
      "name": "python3"
    },
    "language_info": {
      "codemirror_mode": {
        "name": "ipython",
        "version": 3
      },
      "file_extension": ".py",
      "mimetype": "text/x-python",
      "name": "python",
      "nbconvert_exporter": "python",
      "pygments_lexer": "ipython3",
      "version": "3.11.0rc2"
    },
    "colab": {
      "provenance": []
    }
  },
  "nbformat": 4,
  "nbformat_minor": 0
}